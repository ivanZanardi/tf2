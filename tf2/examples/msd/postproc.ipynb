{
 "cells": [
  {
   "cell_type": "code",
   "execution_count": 1,
   "id": "aerial-convention",
   "metadata": {},
   "outputs": [],
   "source": [
    "import numpy as np\n",
    "import pandas as pd\n",
    "import matplotlib\n",
    "from matplotlib import pyplot as plt\n",
    "\n",
    "COLORS = matplotlib.rcParams[\"axes.prop_cycle\"].by_key()[\"color\"]"
   ]
  },
  {
   "cell_type": "code",
   "execution_count": 2,
   "id": "beginning-portal",
   "metadata": {},
   "outputs": [],
   "source": [
    "data = pd.read_csv(\"data.csv\").to_numpy()\n",
    "t = np.take(data, [2], axis=1)\n",
    "y = np.take(data, [3,4], axis=1)"
   ]
  },
  {
   "cell_type": "code",
   "execution_count": 3,
   "id": "radio-honor",
   "metadata": {},
   "outputs": [],
   "source": [
    "def plot_true_pred(x, y, y_pred, lang, figname):\n",
    "  plt.figure()\n",
    "  label = [\"x [m]\", \"v [m]\"]\n",
    "  plt.plot([], [], c=\"k\", label=\"True\")\n",
    "  plt.plot([], [], \"^--\", c=\"k\", label=lang +\" Pred\")\n",
    "  for i in range(2):\n",
    "    plt.plot(x, y[:,i], c=COLORS[i], lw=1.)\n",
    "    plt.plot(x, y_pred[:,i], c=COLORS[i], ls=\"--\", marker=\"^\", markevery=5, lw=1.)\n",
    "    plt.plot([], [], c=COLORS[i], label=label[i])\n",
    "  plt.ylim([-5,5])\n",
    "  plt.xlabel(\"t [s]\")\n",
    "  plt.legend()\n",
    "  plt.savefig(figname, dpi=600)\n",
    "  plt.close()"
   ]
  },
  {
   "cell_type": "code",
   "execution_count": 4,
   "id": "governmental-chance",
   "metadata": {},
   "outputs": [],
   "source": [
    "y_pred = pd.read_csv(\"cpp/pred.csv\", header=None).to_numpy()\n",
    "plot_true_pred(t, y, y_pred, \"C++\", \"./inference_cpp.png\")"
   ]
  },
  {
   "cell_type": "code",
   "execution_count": 5,
   "id": "apart-plasma",
   "metadata": {},
   "outputs": [],
   "source": [
    "y_pred = np.loadtxt(\"fortran/pred.csv\")\n",
    "plot_true_pred(t, y, y_pred, \"Fortran\", \"./inference_fortran.png\")"
   ]
  }
 ],
 "metadata": {
  "kernelspec": {
   "display_name": "sciml",
   "language": "python",
   "name": "python3"
  },
  "language_info": {
   "codemirror_mode": {
    "name": "ipython",
    "version": 3
   },
   "file_extension": ".py",
   "mimetype": "text/x-python",
   "name": "python",
   "nbconvert_exporter": "python",
   "pygments_lexer": "ipython3",
   "version": "3.8.15"
  }
 },
 "nbformat": 4,
 "nbformat_minor": 5
}
